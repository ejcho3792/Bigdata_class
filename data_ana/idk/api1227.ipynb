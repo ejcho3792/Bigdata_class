{
 "cells": [
  {
   "cell_type": "code",
   "execution_count": 1,
   "id": "c3a6a1d2",
   "metadata": {},
   "outputs": [],
   "source": [
    "import numpy as np\n",
    "import pandas as pd\n",
    "\n"
   ]
  },
  {
   "cell_type": "code",
   "execution_count": 5,
   "id": "75b3cfad",
   "metadata": {},
   "outputs": [],
   "source": [
    "pth='D:/빅데이터기반지능형서비스개발/12월/12월수업자료/data_bigdata_cert/bicycle.csv'"
   ]
  },
  {
   "cell_type": "code",
   "execution_count": 11,
   "id": "723c0ecf",
   "metadata": {},
   "outputs": [],
   "source": [
    "df=pd.read_csv(pth,encoding='utf8')\n",
    "df.to_excel('data_bigdata_cert/bicycle.xlsx')"
   ]
  },
  {
   "cell_type": "code",
   "execution_count": 16,
   "id": "05b292da",
   "metadata": {},
   "outputs": [],
   "source": [
    "import pickle\n",
    "tmp=pd.DataFrame({'a':[1],'b':[2]})\n",
    "tmp.to_pickle('./tmp.pkl')"
   ]
  },
  {
   "cell_type": "code",
   "execution_count": null,
   "id": "70f4358f",
   "metadata": {},
   "outputs": [],
   "source": []
  }
 ],
 "metadata": {
  "kernelspec": {
   "display_name": "Python 3 (ipykernel)",
   "language": "python",
   "name": "python3"
  },
  "language_info": {
   "codemirror_mode": {
    "name": "ipython",
    "version": 3
   },
   "file_extension": ".py",
   "mimetype": "text/x-python",
   "name": "python",
   "nbconvert_exporter": "python",
   "pygments_lexer": "ipython3",
   "version": "3.8.12"
  }
 },
 "nbformat": 4,
 "nbformat_minor": 5
}
