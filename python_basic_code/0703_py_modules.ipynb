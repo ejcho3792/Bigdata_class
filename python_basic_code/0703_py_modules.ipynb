{
 "cells": [
  {
   "cell_type": "markdown",
   "id": "7f6193e9",
   "metadata": {},
   "source": [
    "# 파이썬 내장 모듈"
   ]
  },
  {
   "cell_type": "markdown",
   "id": "ab386472",
   "metadata": {},
   "source": [
    "## math\n",
    "* 수학적 연산과 관련된 함수들을 모아놓은 모듈\n",
    "* ceil : 올림하여 정수로 만들기\n",
    "* floor : 내림하여 정수로 만들기\n",
    "* sqrt : 제곱근\n",
    "* factorial : 팩토리얼\n",
    "* pi : 원주율"
   ]
  },
  {
   "cell_type": "code",
   "execution_count": 1,
   "id": "66779992",
   "metadata": {},
   "outputs": [
    {
     "name": "stdout",
     "output_type": "stream",
     "text": [
      "2\n",
      "1\n",
      "2.0\n",
      "6\n",
      "3.141592653589793\n"
     ]
    }
   ],
   "source": [
    "import math\n",
    "print(math.ceil(1.4))\n",
    "print(math.floor(1.7))\n",
    "print(math.sqrt(4))\n",
    "print(math.factorial(3))\n",
    "print(math.pi)"
   ]
  },
  {
   "cell_type": "markdown",
   "id": "76854182",
   "metadata": {},
   "source": [
    "## random\n",
    "* 임의의 수를 발생시키거나 리스트의 요소 중 임의의 수를 선택하는 데 사용되는 모듈"
   ]
  },
  {
   "cell_type": "code",
   "execution_count": 2,
   "id": "4e2356c6",
   "metadata": {},
   "outputs": [],
   "source": [
    "import random"
   ]
  },
  {
   "cell_type": "markdown",
   "id": "142a7424",
   "metadata": {},
   "source": [
    "### 랜덤 정수 구하기\n",
    "* random.randint(시작값, 끝값) : 시작값~끝값 사이의 랜덤 정수 구하기 (끝값 포함)\n",
    "* random.randrange(시작값, 끝값) : 시작값~끝값 사이의 랜덤 정수 구하기 (끝값 미포함)\n",
    "* random.randrange(끝값) : 0~끝값 사이의 랜덤 정수 구하기 (끝값 미포함)"
   ]
  },
  {
   "cell_type": "code",
   "execution_count": 3,
   "id": "8ad4356c",
   "metadata": {
    "scrolled": true
   },
   "outputs": [
    {
     "name": "stdout",
     "output_type": "stream",
     "text": [
      "5\n",
      "5\n",
      "7\n"
     ]
    }
   ],
   "source": [
    "# 1~10 사이의 랜덤 정수 구하기(10포함)\n",
    "print(random.randint(1,10))\n",
    "\n",
    "# 1~9 사이의 랜덤 정수 구하기\n",
    "print(random.randrange(1,10))\n",
    "    \n",
    "# 0~9 사이의 랜덤 정수 구하기\n",
    "print(random.randrange(10))"
   ]
  },
  {
   "cell_type": "markdown",
   "id": "b037bb72",
   "metadata": {},
   "source": [
    "### 랜덤 실수 구하기\n",
    "* random.random() : 0~1 사이의 랜덤 실수 구하기\n",
    "* random.uniform(시작값,끝값) : 시작값 ~ 끝값 사이의 랜덤 실수 반환(끝값 미포함)"
   ]
  },
  {
   "cell_type": "code",
   "execution_count": 4,
   "id": "99d806a5",
   "metadata": {},
   "outputs": [
    {
     "name": "stdout",
     "output_type": "stream",
     "text": [
      "0.9954996686604478\n",
      "4.896086428559564\n"
     ]
    }
   ],
   "source": [
    "# 0~1 사이의 랜덤 실수 구하기\n",
    "print(random.random())\n",
    "\n",
    "# 1~10 사이의 랜덤 실수 구하기\n",
    "print(random.uniform(1,10))"
   ]
  },
  {
   "cell_type": "markdown",
   "id": "a747c4e9",
   "metadata": {},
   "source": [
    "### 시퀀스 데이터에서 무작위 요소 추출\n",
    "* random.choice(시퀀스)"
   ]
  },
  {
   "cell_type": "code",
   "execution_count": 5,
   "id": "50f0f056",
   "metadata": {},
   "outputs": [
    {
     "name": "stdout",
     "output_type": "stream",
     "text": [
      "2\n",
      "y\n",
      "79\n"
     ]
    }
   ],
   "source": [
    "print(random.choice([1,2,3]))\n",
    "print(random.choice('python'))\n",
    "print(random.choice(range(1,101)))"
   ]
  },
  {
   "cell_type": "markdown",
   "id": "38778213",
   "metadata": {},
   "source": [
    "### 시퀀스 데이터에서 무작위로 n개 요소 추출\n",
    "* random.sample(시퀀스,n)"
   ]
  },
  {
   "cell_type": "code",
   "execution_count": 6,
   "id": "9b950ce4",
   "metadata": {},
   "outputs": [
    {
     "name": "stdout",
     "output_type": "stream",
     "text": [
      "[2, 3]\n",
      "['p', 't']\n",
      "[80, 33]\n"
     ]
    }
   ],
   "source": [
    "print(random.sample([1,2,3],2))\n",
    "print(random.sample('python',2))\n",
    "print(random.sample(range(1,101),2))"
   ]
  },
  {
   "cell_type": "markdown",
   "id": "b33baa0a",
   "metadata": {},
   "source": [
    "### 시퀀스 데이터를 무작위로 랜덤하게 섞기\n",
    "* random.shuffle(시퀀스) : 원본을 섞는다. 리턴값이 없다."
   ]
  },
  {
   "cell_type": "code",
   "execution_count": 7,
   "id": "1ddd4e4b",
   "metadata": {},
   "outputs": [
    {
     "data": {
      "text/plain": [
       "[2, 5, 4, 1, 3]"
      ]
     },
     "execution_count": 7,
     "metadata": {},
     "output_type": "execute_result"
    }
   ],
   "source": [
    "a = [1,2,3,4,5]\n",
    "random.shuffle(a)\n",
    "a"
   ]
  },
  {
   "cell_type": "markdown",
   "id": "4eefda33",
   "metadata": {},
   "source": [
    "## datetime\n",
    "* 날짜, 시간과 관련된 모듈.\n",
    "* 날짜 형식을 만들 때 주로 사용된다."
   ]
  },
  {
   "cell_type": "code",
   "execution_count": 8,
   "id": "a8174170",
   "metadata": {
    "scrolled": true
   },
   "outputs": [],
   "source": [
    "import datetime"
   ]
  },
  {
   "cell_type": "markdown",
   "id": "9eb99155",
   "metadata": {},
   "source": [
    "### 현재 날짜와 시각 가져오기\n",
    "* datetime.datetime.now()"
   ]
  },
  {
   "cell_type": "code",
   "execution_count": 9,
   "id": "4d81c876",
   "metadata": {},
   "outputs": [],
   "source": [
    "now = datetime.datetime.now()"
   ]
  },
  {
   "cell_type": "markdown",
   "id": "0a9057e5",
   "metadata": {},
   "source": [
    "### 현재 날짜와 시각 출력하기"
   ]
  },
  {
   "cell_type": "code",
   "execution_count": 10,
   "id": "8d7cba27",
   "metadata": {},
   "outputs": [
    {
     "name": "stdout",
     "output_type": "stream",
     "text": [
      "2022 년\n",
      "1 월\n",
      "24 일\n",
      "16 시\n",
      "31 분\n",
      "33 초\n"
     ]
    }
   ],
   "source": [
    "print(now.year,'년')\n",
    "print(now.month,'월')\n",
    "print(now.day,'일')\n",
    "print(now.hour,'시')\n",
    "print(now.minute,'분')\n",
    "print(now.second,'초')"
   ]
  },
  {
   "cell_type": "markdown",
   "id": "a3ca5ecd",
   "metadata": {},
   "source": [
    "### 시간을 포멧에 맞게 출력하기\n",
    "* datetime.datetime.now().strftime(포멧)"
   ]
  },
  {
   "cell_type": "code",
   "execution_count": 11,
   "id": "d84f2de2",
   "metadata": {},
   "outputs": [
    {
     "data": {
      "text/plain": [
       "'2022.01.24 16:31:33'"
      ]
     },
     "execution_count": 11,
     "metadata": {},
     "output_type": "execute_result"
    }
   ],
   "source": [
    "now.strftime('%Y.%m.%d %H:%M:%S')"
   ]
  },
  {
   "cell_type": "markdown",
   "id": "43bef0e3",
   "metadata": {},
   "source": [
    "### 특정 시간 이후의 날짜와 시간 구하기\n",
    "* datetime.datetime.now()+datetime.timedelta(더할시간) : 특정 일, 시간, 분, 초 이후의 날짜와 시간 구하기\n",
    "* timedelta에는 year로 계산하는 기능은 없음"
   ]
  },
  {
   "cell_type": "code",
   "execution_count": 12,
   "id": "8714248e",
   "metadata": {},
   "outputs": [
    {
     "data": {
      "text/plain": [
       "datetime.datetime(2022, 2, 1, 17, 32, 34, 165653)"
      ]
     },
     "execution_count": 12,
     "metadata": {},
     "output_type": "execute_result"
    }
   ],
   "source": [
    "now + datetime.timedelta(weeks=1, days=1, hours=1, minutes=1, seconds=1)"
   ]
  },
  {
   "cell_type": "code",
   "execution_count": 13,
   "id": "e9a48af8",
   "metadata": {},
   "outputs": [
    {
     "data": {
      "text/plain": [
       "datetime.datetime(2022, 5, 4, 16, 31, 33, 165653)"
      ]
     },
     "execution_count": 13,
     "metadata": {},
     "output_type": "execute_result"
    }
   ],
   "source": [
    "# 현재로부터 100일 이후의 날짜와 시간 구하기\n",
    "now + datetime.timedelta(days=100)"
   ]
  },
  {
   "cell_type": "code",
   "execution_count": 14,
   "id": "93ca7767",
   "metadata": {
    "scrolled": true
   },
   "outputs": [
    {
     "data": {
      "text/plain": [
       "datetime.datetime(2021, 10, 16, 16, 31, 33, 165653)"
      ]
     },
     "execution_count": 14,
     "metadata": {},
     "output_type": "execute_result"
    }
   ],
   "source": [
    "# 현재로부터 100일 전의 날짜와 시간 구하기\n",
    "now + datetime.timedelta(days=-100)"
   ]
  },
  {
   "cell_type": "markdown",
   "id": "e3273e47",
   "metadata": {},
   "source": [
    "## time\n",
    "* 시간 데이터를 다루기 위한 모듈"
   ]
  },
  {
   "cell_type": "code",
   "execution_count": 15,
   "id": "ac39aa54",
   "metadata": {},
   "outputs": [],
   "source": [
    "import time"
   ]
  },
  {
   "cell_type": "markdown",
   "id": "dffd2dfb",
   "metadata": {},
   "source": [
    "### 현재 날짜와 시간 가져오기\n",
    "* time.localtime()\n",
    "* time.ctime()"
   ]
  },
  {
   "cell_type": "code",
   "execution_count": 16,
   "id": "354617ef",
   "metadata": {
    "scrolled": true
   },
   "outputs": [
    {
     "data": {
      "text/plain": [
       "time.struct_time(tm_year=2022, tm_mon=1, tm_mday=24, tm_hour=16, tm_min=32, tm_sec=4, tm_wday=0, tm_yday=24, tm_isdst=0)"
      ]
     },
     "execution_count": 16,
     "metadata": {},
     "output_type": "execute_result"
    }
   ],
   "source": [
    "tm = time.localtime()\n",
    "tm"
   ]
  },
  {
   "cell_type": "code",
   "execution_count": 17,
   "id": "57a6925a",
   "metadata": {},
   "outputs": [
    {
     "name": "stdout",
     "output_type": "stream",
     "text": [
      "2022\n",
      "1\n",
      "24\n",
      "16\n",
      "32\n"
     ]
    }
   ],
   "source": [
    "print(time.localtime().tm_year)\n",
    "print(time.localtime().tm_mon)\n",
    "print(time.localtime().tm_mday)\n",
    "print(time.localtime().tm_hour)\n",
    "print(time.localtime().tm_min)"
   ]
  },
  {
   "cell_type": "code",
   "execution_count": 18,
   "id": "d76f46ec",
   "metadata": {
    "scrolled": true
   },
   "outputs": [
    {
     "data": {
      "text/plain": [
       "'Mon Jan 24 16:32:08 2022'"
      ]
     },
     "execution_count": 18,
     "metadata": {},
     "output_type": "execute_result"
    }
   ],
   "source": [
    "time.ctime() "
   ]
  },
  {
   "cell_type": "markdown",
   "id": "cd14e80f",
   "metadata": {},
   "source": [
    "### 일시정지\n",
    "* time.sleep(초)"
   ]
  },
  {
   "cell_type": "code",
   "execution_count": 19,
   "id": "db8d7f4a",
   "metadata": {},
   "outputs": [
    {
     "name": "stdout",
     "output_type": "stream",
     "text": [
      "3\n",
      "2\n",
      "1\n",
      "srart\n"
     ]
    }
   ],
   "source": [
    "# 카운트다운\n",
    "print(3)\n",
    "time.sleep(1)\n",
    "print(2)\n",
    "time.sleep(1)\n",
    "print(1)\n",
    "time.sleep(1)\n",
    "print('srart')"
   ]
  },
  {
   "cell_type": "markdown",
   "id": "0bc71fa5",
   "metadata": {},
   "source": [
    "# 모듈 살펴보기"
   ]
  },
  {
   "cell_type": "markdown",
   "id": "1ae5ac6e",
   "metadata": {},
   "source": [
    "## 모듈 내 함수 확인\n",
    "* dir(모듈명)"
   ]
  },
  {
   "cell_type": "code",
   "execution_count": 20,
   "id": "7a35e767",
   "metadata": {},
   "outputs": [
    {
     "data": {
      "text/plain": [
       "['ArithmeticError',\n",
       " 'AssertionError',\n",
       " 'AttributeError',\n",
       " 'BaseException',\n",
       " 'BlockingIOError',\n",
       " 'BrokenPipeError',\n",
       " 'BufferError',\n",
       " 'BytesWarning',\n",
       " 'ChildProcessError',\n",
       " 'ConnectionAbortedError',\n",
       " 'ConnectionError',\n",
       " 'ConnectionRefusedError',\n",
       " 'ConnectionResetError',\n",
       " 'DeprecationWarning',\n",
       " 'EOFError',\n",
       " 'Ellipsis',\n",
       " 'EnvironmentError',\n",
       " 'Exception',\n",
       " 'False',\n",
       " 'FileExistsError',\n",
       " 'FileNotFoundError',\n",
       " 'FloatingPointError',\n",
       " 'FutureWarning',\n",
       " 'GeneratorExit',\n",
       " 'IOError',\n",
       " 'ImportError',\n",
       " 'ImportWarning',\n",
       " 'IndentationError',\n",
       " 'IndexError',\n",
       " 'InterruptedError',\n",
       " 'IsADirectoryError',\n",
       " 'KeyError',\n",
       " 'KeyboardInterrupt',\n",
       " 'LookupError',\n",
       " 'MemoryError',\n",
       " 'ModuleNotFoundError',\n",
       " 'NameError',\n",
       " 'None',\n",
       " 'NotADirectoryError',\n",
       " 'NotImplemented',\n",
       " 'NotImplementedError',\n",
       " 'OSError',\n",
       " 'OverflowError',\n",
       " 'PendingDeprecationWarning',\n",
       " 'PermissionError',\n",
       " 'ProcessLookupError',\n",
       " 'RecursionError',\n",
       " 'ReferenceError',\n",
       " 'ResourceWarning',\n",
       " 'RuntimeError',\n",
       " 'RuntimeWarning',\n",
       " 'StopAsyncIteration',\n",
       " 'StopIteration',\n",
       " 'SyntaxError',\n",
       " 'SyntaxWarning',\n",
       " 'SystemError',\n",
       " 'SystemExit',\n",
       " 'TabError',\n",
       " 'TimeoutError',\n",
       " 'True',\n",
       " 'TypeError',\n",
       " 'UnboundLocalError',\n",
       " 'UnicodeDecodeError',\n",
       " 'UnicodeEncodeError',\n",
       " 'UnicodeError',\n",
       " 'UnicodeTranslateError',\n",
       " 'UnicodeWarning',\n",
       " 'UserWarning',\n",
       " 'ValueError',\n",
       " 'Warning',\n",
       " 'WindowsError',\n",
       " 'ZeroDivisionError',\n",
       " '__IPYTHON__',\n",
       " '__build_class__',\n",
       " '__debug__',\n",
       " '__doc__',\n",
       " '__import__',\n",
       " '__loader__',\n",
       " '__name__',\n",
       " '__package__',\n",
       " '__spec__',\n",
       " 'abs',\n",
       " 'all',\n",
       " 'any',\n",
       " 'ascii',\n",
       " 'bin',\n",
       " 'bool',\n",
       " 'breakpoint',\n",
       " 'bytearray',\n",
       " 'bytes',\n",
       " 'callable',\n",
       " 'chr',\n",
       " 'classmethod',\n",
       " 'compile',\n",
       " 'complex',\n",
       " 'copyright',\n",
       " 'credits',\n",
       " 'delattr',\n",
       " 'dict',\n",
       " 'dir',\n",
       " 'display',\n",
       " 'divmod',\n",
       " 'enumerate',\n",
       " 'eval',\n",
       " 'exec',\n",
       " 'execfile',\n",
       " 'filter',\n",
       " 'float',\n",
       " 'format',\n",
       " 'frozenset',\n",
       " 'get_ipython',\n",
       " 'getattr',\n",
       " 'globals',\n",
       " 'hasattr',\n",
       " 'hash',\n",
       " 'help',\n",
       " 'hex',\n",
       " 'id',\n",
       " 'input',\n",
       " 'int',\n",
       " 'isinstance',\n",
       " 'issubclass',\n",
       " 'iter',\n",
       " 'len',\n",
       " 'license',\n",
       " 'list',\n",
       " 'locals',\n",
       " 'map',\n",
       " 'max',\n",
       " 'memoryview',\n",
       " 'min',\n",
       " 'next',\n",
       " 'object',\n",
       " 'oct',\n",
       " 'open',\n",
       " 'ord',\n",
       " 'pow',\n",
       " 'print',\n",
       " 'property',\n",
       " 'range',\n",
       " 'repr',\n",
       " 'reversed',\n",
       " 'round',\n",
       " 'runfile',\n",
       " 'set',\n",
       " 'setattr',\n",
       " 'slice',\n",
       " 'sorted',\n",
       " 'staticmethod',\n",
       " 'str',\n",
       " 'sum',\n",
       " 'super',\n",
       " 'tuple',\n",
       " 'type',\n",
       " 'vars',\n",
       " 'zip']"
      ]
     },
     "execution_count": 20,
     "metadata": {},
     "output_type": "execute_result"
    }
   ],
   "source": [
    "# 파이썬 내장함수 확인\n",
    "dir(__builtins__)"
   ]
  },
  {
   "cell_type": "code",
   "execution_count": 21,
   "id": "b0ea86e6",
   "metadata": {
    "scrolled": false
   },
   "outputs": [
    {
     "data": {
      "text/plain": [
       "['MAXYEAR',\n",
       " 'MINYEAR',\n",
       " '__builtins__',\n",
       " '__cached__',\n",
       " '__doc__',\n",
       " '__file__',\n",
       " '__loader__',\n",
       " '__name__',\n",
       " '__package__',\n",
       " '__spec__',\n",
       " 'date',\n",
       " 'datetime',\n",
       " 'datetime_CAPI',\n",
       " 'sys',\n",
       " 'time',\n",
       " 'timedelta',\n",
       " 'timezone',\n",
       " 'tzinfo']"
      ]
     },
     "execution_count": 21,
     "metadata": {},
     "output_type": "execute_result"
    }
   ],
   "source": [
    "dir(datetime)"
   ]
  },
  {
   "cell_type": "markdown",
   "id": "b7bb6d41",
   "metadata": {},
   "source": [
    "## 모듈 내 함수 사용법 확인\n",
    "* import 모듈명    \n",
    "help(모듈명.함수명)"
   ]
  },
  {
   "cell_type": "code",
   "execution_count": 22,
   "id": "58c95bed",
   "metadata": {
    "scrolled": true
   },
   "outputs": [
    {
     "name": "stdout",
     "output_type": "stream",
     "text": [
      "Help on method randint in module random:\n",
      "\n",
      "randint(a, b) method of random.Random instance\n",
      "    Return random integer in range [a, b], including both end points.\n",
      "\n"
     ]
    }
   ],
   "source": [
    "import random\n",
    "help(random.randint)"
   ]
  },
  {
   "cell_type": "markdown",
   "id": "65c3dfc0",
   "metadata": {},
   "source": [
    "# 외부모듈"
   ]
  },
  {
   "cell_type": "markdown",
   "id": "66e5bbe6",
   "metadata": {},
   "source": [
    "* 외부모듈 설치하기 : pip install 모듈명\n",
    "* 설치된 외부모듈 확인하기 : pip list"
   ]
  },
  {
   "cell_type": "code",
   "execution_count": 23,
   "id": "adde806b",
   "metadata": {
    "scrolled": false
   },
   "outputs": [
    {
     "name": "stdout",
     "output_type": "stream",
     "text": [
      "Package                           Version\n",
      "--------------------------------- ------------\n",
      "argon2-cffi                       21.3.0\n",
      "argon2-cffi-bindings              21.2.0\n",
      "async-generator                   1.10\n",
      "attrs                             21.2.0\n",
      "backcall                          0.2.0\n",
      "beautifulsoup4                    4.10.0\n",
      "bleach                            4.1.0\n",
      "branca                            0.4.2\n",
      "bs4                               0.0.1\n",
      "certifi                           2021.10.8\n",
      "cffi                              1.15.0\n",
      "charset-normalizer                2.0.10\n",
      "click                             8.0.3\n",
      "colorama                          0.4.4\n",
      "cryptography                      36.0.1\n",
      "cycler                            0.11.0\n",
      "debugpy                           1.5.1\n",
      "decorator                         5.1.0\n",
      "defusedxml                        0.7.1\n",
      "entrypoints                       0.3\n",
      "et-xmlfile                        1.1.0\n",
      "folium                            0.12.1.post1\n",
      "fonttools                         4.28.5\n",
      "h11                               0.12.0\n",
      "idna                              3.3\n",
      "importlib-resources               5.4.0\n",
      "ipykernel                         6.6.0\n",
      "ipython                           7.30.1\n",
      "ipython-genutils                  0.2.0\n",
      "ipywidgets                        7.6.5\n",
      "jedi                              0.18.1\n",
      "Jinja2                            3.0.3\n",
      "joblib                            1.1.0\n",
      "jsonschema                        4.3.2\n",
      "jupyter                           1.0.0\n",
      "jupyter-client                    7.1.0\n",
      "jupyter-console                   6.4.0\n",
      "jupyter-contrib-core              0.3.3\n",
      "jupyter-contrib-nbextensions      0.5.1\n",
      "jupyter-core                      4.9.1\n",
      "jupyter-highlight-selected-word   0.2.0\n",
      "jupyter-latex-envs                1.4.6\n",
      "jupyter-nbextensions-configurator 0.4.1\n",
      "jupyterlab-pygments               0.1.2\n",
      "jupyterlab-widgets                1.0.2\n",
      "kiwisolver                        1.3.2\n",
      "lxml                              4.7.1\n",
      "MarkupSafe                        2.0.1\n",
      "matplotlib                        3.5.1\n",
      "matplotlib-inline                 0.1.3\n",
      "mistune                           0.8.4\n",
      "mpmath                            1.2.1\n",
      "nbclient                          0.5.9\n",
      "nbconvert                         6.3.0\n",
      "nbformat                          5.1.3\n",
      "nest-asyncio                      1.5.4\n",
      "nltk                              3.6.7\n",
      "notebook                          6.4.6\n",
      "numpy                             1.21.5\n",
      "opencv-python                     4.5.5.62\n",
      "openpyxl                          3.0.9\n",
      "outcome                           1.1.0\n",
      "packaging                         21.3\n",
      "pandas                            1.3.5\n",
      "pandocfilters                     1.5.0\n",
      "parso                             0.8.3\n",
      "pickleshare                       0.7.5\n",
      "Pillow                            8.4.0\n",
      "pip                               21.2.2\n",
      "prometheus-client                 0.12.0\n",
      "prompt-toolkit                    3.0.24\n",
      "pycparser                         2.21\n",
      "Pygments                          2.10.0\n",
      "pyOpenSSL                         21.0.0\n",
      "pyparsing                         3.0.6\n",
      "pyrsistent                        0.18.0\n",
      "python-dateutil                   2.8.2\n",
      "pytz                              2021.3\n",
      "pywin32                           303\n",
      "pywinpty                          1.1.6\n",
      "PyYAML                            6.0\n",
      "pyzmq                             22.3.0\n",
      "qtconsole                         5.2.2\n",
      "QtPy                              2.0.0\n",
      "regex                             2021.11.10\n",
      "requests                          2.27.1\n",
      "scikit-learn                      1.0.2\n",
      "scipy                             1.7.3\n",
      "seaborn                           0.11.2\n",
      "selenium                          4.1.0\n",
      "Send2Trash                        1.8.0\n",
      "setuptools                        58.0.4\n",
      "six                               1.16.0\n",
      "sniffio                           1.2.0\n",
      "sortedcontainers                  2.4.0\n",
      "soupsieve                         2.3.1\n",
      "sympy                             1.9\n",
      "terminado                         0.12.1\n",
      "testpath                          0.5.0\n",
      "threadpoolctl                     3.0.0\n",
      "tornado                           6.1\n",
      "tqdm                              4.62.3\n",
      "traitlets                         5.1.1\n",
      "trio                              0.19.0\n",
      "trio-websocket                    0.9.2\n",
      "urllib3                           1.26.8\n",
      "wcwidth                           0.2.5\n",
      "webencodings                      0.5.1\n",
      "wheel                             0.37.0\n",
      "widgetsnbextension                3.5.2\n",
      "wincertstore                      0.2\n",
      "wordcloud                         1.8.1\n",
      "workbook                          1.1\n",
      "wsproto                           1.0.0\n",
      "xlrd                              2.0.1\n",
      "xlutils                           2.0.0\n",
      "xlwt                              1.3.0\n",
      "zipp                              3.6.0\n",
      "Note: you may need to restart the kernel to use updated packages.\n"
     ]
    }
   ],
   "source": [
    "pip list"
   ]
  }
 ],
 "metadata": {
  "kernelspec": {
   "display_name": "Python 3 (ipykernel)",
   "language": "python",
   "name": "python3"
  },
  "language_info": {
   "codemirror_mode": {
    "name": "ipython",
    "version": 3
   },
   "file_extension": ".py",
   "mimetype": "text/x-python",
   "name": "python",
   "nbconvert_exporter": "python",
   "pygments_lexer": "ipython3",
   "version": "3.8.12"
  },
  "toc": {
   "base_numbering": 1,
   "nav_menu": {},
   "number_sections": true,
   "sideBar": true,
   "skip_h1_title": false,
   "title_cell": "Table of Contents",
   "title_sidebar": "Contents",
   "toc_cell": false,
   "toc_position": {
    "height": "calc(100% - 180px)",
    "left": "10px",
    "top": "150px",
    "width": "245.76px"
   },
   "toc_section_display": true,
   "toc_window_display": true
  }
 },
 "nbformat": 4,
 "nbformat_minor": 5
}
