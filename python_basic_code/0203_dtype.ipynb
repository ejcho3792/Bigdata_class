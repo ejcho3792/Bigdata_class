{
 "cells": [
  {
   "cell_type": "markdown",
   "id": "b3f11316",
   "metadata": {},
   "source": [
    "산술연산"
   ]
  },
  {
   "cell_type": "code",
   "execution_count": 1,
   "id": "c16355c0",
   "metadata": {},
   "outputs": [
    {
     "name": "stdout",
     "output_type": "stream",
     "text": [
      "a+b= 7\n",
      "a-b= -1\n",
      "a*b= 12\n",
      "a/b= 0.75\n",
      "a//b= 0\n",
      "a%b= 3\n",
      "a**b= 81\n"
     ]
    }
   ],
   "source": [
    "a, b = 3,4\n",
    "\n",
    "print('a+b=',a+b)\n",
    "print('a-b=',a-b)\n",
    "print('a*b=',a*b)\n",
    "print('a/b=',a/b)\n",
    "print('a//b=',a//b)\n",
    "print('a%b=',a%b)\n",
    "print('a**b=',a**b)"
   ]
  },
  {
   "cell_type": "markdown",
   "id": "7f08971d",
   "metadata": {},
   "source": [
    "문자열연산"
   ]
  },
  {
   "cell_type": "code",
   "execution_count": 2,
   "id": "f125b2e2",
   "metadata": {},
   "outputs": [
    {
     "name": "stdout",
     "output_type": "stream",
     "text": [
      "영어점수80\n"
     ]
    }
   ],
   "source": [
    "# 문자열 더하기(문자열 연결하기)\n",
    "a = 'good'\n",
    "b = 'morning'\n",
    "a+b\n",
    "# 문자열 곱하기(문자열 반복하기) \n",
    "s = 'ha'\n",
    "s * 3\n",
    "# 문자열과 숫자형 더하기\n",
    "english = 80\n",
    "result = '영어점수'+ str(english)\n",
    "print(result)"
   ]
  },
  {
   "cell_type": "markdown",
   "id": "508c301e",
   "metadata": {},
   "source": [
    "할당 연산자"
   ]
  },
  {
   "cell_type": "code",
   "execution_count": 3,
   "id": "24be6d64",
   "metadata": {},
   "outputs": [],
   "source": [
    "a = 1"
   ]
  },
  {
   "cell_type": "code",
   "execution_count": 4,
   "id": "286ffe1d",
   "metadata": {},
   "outputs": [
    {
     "name": "stdout",
     "output_type": "stream",
     "text": [
      "1 1 1\n"
     ]
    }
   ],
   "source": [
    "# a,b,c에 모두 1할당\n",
    "a = b = c = 1\n",
    "print(a,b,c)\n"
   ]
  },
  {
   "cell_type": "code",
   "execution_count": 5,
   "id": "516ef21b",
   "metadata": {},
   "outputs": [
    {
     "name": "stdout",
     "output_type": "stream",
     "text": [
      "1 2 3\n"
     ]
    }
   ],
   "source": [
    "# a,b,c에 각각 1,2,3 할당\n",
    "a,b,c = 1,2,3\n",
    "print(a,b,c)"
   ]
  },
  {
   "cell_type": "markdown",
   "id": "3c17cb16",
   "metadata": {},
   "source": [
    "복합 할당 연산자\n"
   ]
  },
  {
   "cell_type": "code",
   "execution_count": 6,
   "id": "1e86b1d4",
   "metadata": {},
   "outputs": [
    {
     "name": "stdout",
     "output_type": "stream",
     "text": [
      "30\n",
      "24\n"
     ]
    }
   ],
   "source": [
    "x = 10\n",
    "x += 20  # x = x+20 = 10 + 20 = 30\n",
    "print(x)\n",
    "x = 3\n",
    "y = 5\n",
    "x *= x+y   # x = x * (x+y) = 3 * (3 + 5) = 24\n",
    "print(x)"
   ]
  },
  {
   "cell_type": "markdown",
   "id": "4f3c7dff",
   "metadata": {},
   "source": [
    "f스트링으로 출력하기\n"
   ]
  },
  {
   "cell_type": "code",
   "execution_count": 7,
   "id": "c9223741",
   "metadata": {},
   "outputs": [
    {
     "name": "stdout",
     "output_type": "stream",
     "text": [
      "이름:eunji\n",
      "eunji 님, 안녕하세요?\n",
      "eunji님 안녕하세요\n"
     ]
    }
   ],
   "source": [
    "name = input('이름:')\n",
    "print(name,'님, 안녕하세요?')\n",
    "print(f'{name}님 안녕하세요')"
   ]
  },
  {
   "cell_type": "code",
   "execution_count": 8,
   "id": "5b6a3dad",
   "metadata": {},
   "outputs": [
    {
     "name": "stdout",
     "output_type": "stream",
     "text": [
      "나이:27\n",
      "나이는 27 살이시군요. 내년이면 28 살이 되시겠네요\n",
      "나이는 27살이시군요. 내년이면 28살이 되시겠네요\n"
     ]
    }
   ],
   "source": [
    "age = int(input('나이:'))\n",
    "print('나이는',age,'살이시군요. 내년이면',age+1,'살이 되시겠네요')\n",
    "print(f'나이는 {age}살이시군요. 내년이면 {age+1}살이 되시겠네요')"
   ]
  },
  {
   "cell_type": "code",
   "execution_count": 9,
   "id": "edb33959",
   "metadata": {},
   "outputs": [
    {
     "name": "stdout",
     "output_type": "stream",
     "text": [
      "첫번째숫자:3\n",
      "두번째숫자:5\n",
      "3 + 5 = 8\n"
     ]
    }
   ],
   "source": [
    "a = int(input('첫번째숫자:'))\n",
    "b = int(input('두번째숫자:'))\n",
    "\n",
    "print(a,'+',b,'=',a+b)"
   ]
  },
  {
   "cell_type": "code",
   "execution_count": 10,
   "id": "3a4b4608",
   "metadata": {},
   "outputs": [
    {
     "name": "stdout",
     "output_type": "stream",
     "text": [
      "3+5=8\n"
     ]
    }
   ],
   "source": [
    "print(f'{a}+{b}={a+b}')"
   ]
  },
  {
   "cell_type": "markdown",
   "id": "34052cef",
   "metadata": {},
   "source": [
    "화씨 온도를 입력받아 섭씨 온도로 변환하는 프로그램을 작성해보세요.   \n",
    "C\n",
    "=\n",
    "(\n",
    "F\n",
    "−\n",
    "32\n",
    ")\n",
    "∗\n",
    "5\n",
    "9\n"
   ]
  },
  {
   "cell_type": "code",
   "execution_count": 11,
   "id": "6ce594e8",
   "metadata": {},
   "outputs": [
    {
     "name": "stdout",
     "output_type": "stream",
     "text": [
      "화씨온도:100\n",
      "화씨온도:100.0 --> 섭씨온도:37.77777777777778\n"
     ]
    }
   ],
   "source": [
    "# 화씨온도 입력\n",
    "f = float(input('화씨온도:'))\n",
    "\n",
    "# 섭씨온도로 계산\n",
    "c = (f - 32) * (5/9)\n",
    "\n",
    "# 결과 출력\n",
    "print(f'화씨온도:{f} --> 섭씨온도:{c}')"
   ]
  }
 ],
 "metadata": {
  "kernelspec": {
   "display_name": "Python 3 (ipykernel)",
   "language": "python",
   "name": "python3"
  },
  "language_info": {
   "codemirror_mode": {
    "name": "ipython",
    "version": 3
   },
   "file_extension": ".py",
   "mimetype": "text/x-python",
   "name": "python",
   "nbconvert_exporter": "python",
   "pygments_lexer": "ipython3",
   "version": "3.8.12"
  }
 },
 "nbformat": 4,
 "nbformat_minor": 5
}
