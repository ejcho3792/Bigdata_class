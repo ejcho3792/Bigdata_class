{
 "cells": [
  {
   "cell_type": "markdown",
   "id": "c6d738d4",
   "metadata": {},
   "source": [
    "변수 만들기   \n",
    "변수에 값 할당하기\n"
   ]
  },
  {
   "cell_type": "code",
   "execution_count": 1,
   "id": "6b85f2ba",
   "metadata": {},
   "outputs": [],
   "source": [
    "name = 'james'\n",
    "age = 20\n",
    "height = 175.0\n",
    "ischild = age<20"
   ]
  },
  {
   "cell_type": "markdown",
   "id": "f6a1fed4",
   "metadata": {},
   "source": [
    "변수 값, 자료형 출력하기\n"
   ]
  },
  {
   "cell_type": "code",
   "execution_count": 2,
   "id": "245bed1d",
   "metadata": {},
   "outputs": [
    {
     "name": "stdout",
     "output_type": "stream",
     "text": [
      "james\n",
      "<class 'str'>\n",
      "20\n",
      "<class 'int'>\n",
      "175.0\n",
      "<class 'float'>\n",
      "False\n",
      "<class 'bool'>\n"
     ]
    }
   ],
   "source": [
    "print(name)\n",
    "print(type(name))\n",
    "print(age)\n",
    "print(type(age))\n",
    "print(height)\n",
    "print(type(height))\n",
    "print(ischild)\n",
    "print(type(ischild))"
   ]
  },
  {
   "cell_type": "markdown",
   "id": "cfe20d21",
   "metadata": {},
   "source": [
    "쌍따옴표나 홑따옴표가 포함되어 있는 문자열 사용하기\n"
   ]
  },
  {
   "cell_type": "code",
   "execution_count": 3,
   "id": "e9879a6b",
   "metadata": {},
   "outputs": [
    {
     "name": "stdout",
     "output_type": "stream",
     "text": [
      "'낮말'은 새가 듣고 '밤말'은 쥐가 듣는다.\n",
      "\"시간은 금\"이라는 말이 있다.\n"
     ]
    }
   ],
   "source": [
    "a = \"'낮말'은 새가 듣고 '밤말'은 쥐가 듣는다.\"\n",
    "print(a)\n",
    "b = '\"시간은 금\"이라는 말이 있다.'\n",
    "print(b)"
   ]
  },
  {
   "cell_type": "markdown",
   "id": "35d2fc12",
   "metadata": {},
   "source": [
    "키보드로 변수에 값 입력받기\n"
   ]
  },
  {
   "cell_type": "code",
   "execution_count": 4,
   "id": "d0eb0574",
   "metadata": {},
   "outputs": [
    {
     "name": "stdout",
     "output_type": "stream",
     "text": [
      "나이:27\n"
     ]
    },
    {
     "data": {
      "text/plain": [
       "str"
      ]
     },
     "execution_count": 4,
     "metadata": {},
     "output_type": "execute_result"
    }
   ],
   "source": [
    "a = input('나이:')\n",
    "type(a)\n"
   ]
  },
  {
   "cell_type": "markdown",
   "id": "553c4a45",
   "metadata": {},
   "source": [
    "자료형 변환하기\n"
   ]
  },
  {
   "cell_type": "code",
   "execution_count": 5,
   "id": "5ca536be",
   "metadata": {},
   "outputs": [
    {
     "name": "stdout",
     "output_type": "stream",
     "text": [
      "20.0 <class 'float'>\n",
      "나이:27\n"
     ]
    },
    {
     "data": {
      "text/plain": [
       "int"
      ]
     },
     "execution_count": 5,
     "metadata": {},
     "output_type": "execute_result"
    }
   ],
   "source": [
    "age = int('20')\n",
    "type(age)\n",
    "age = str(20)\n",
    "type(age)\n",
    "age = float(20)\n",
    "print(age, type(age))\n",
    "a = int(input('나이:'))\n",
    "type(a)"
   ]
  }
 ],
 "metadata": {
  "kernelspec": {
   "display_name": "Python 3 (ipykernel)",
   "language": "python",
   "name": "python3"
  },
  "language_info": {
   "codemirror_mode": {
    "name": "ipython",
    "version": 3
   },
   "file_extension": ".py",
   "mimetype": "text/x-python",
   "name": "python",
   "nbconvert_exporter": "python",
   "pygments_lexer": "ipython3",
   "version": "3.8.12"
  }
 },
 "nbformat": 4,
 "nbformat_minor": 5
}
