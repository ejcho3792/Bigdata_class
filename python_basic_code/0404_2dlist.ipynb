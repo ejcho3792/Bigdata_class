{
 "cells": [
  {
   "cell_type": "markdown",
   "id": "e7fb8b1c",
   "metadata": {},
   "source": [
    "# 리스트의 통계값 구하기\n",
    "* 항목수 : len(리스트명)\n",
    "* 합계 : sum(리스트명)\n",
    "* 최소값 : min(리스트명)\n",
    "* 최대값 : max(리스트명)\n",
    "* 항목의 갯수 : 리스트명.count(항목)"
   ]
  },
  {
   "cell_type": "code",
   "execution_count": 1,
   "id": "fec4598e",
   "metadata": {},
   "outputs": [
    {
     "name": "stdout",
     "output_type": "stream",
     "text": [
      "항목수: 8\n",
      "합계: 27\n",
      "최소값: 1\n",
      "최대값: 5\n",
      "평균: 3.375\n",
      "항목5의 갯수: 2\n"
     ]
    }
   ],
   "source": [
    "l = [1,2,3,4,5,3,4,5]\n",
    "print('항목수:',len(l))\n",
    "print('합계:',sum(l))\n",
    "print('최소값:',min(l))\n",
    "print('최대값:',max(l))\n",
    "print('평균:',sum(l)/len(l))     # 추천코드 (len()함수: 전체 크기)\n",
    "print('항목5의 갯수:',l.count(5)) # list 내 특정 숫자의 갯수 세기 "
   ]
  },
  {
   "cell_type": "markdown",
   "id": "5bc38db1",
   "metadata": {},
   "source": [
    "# 리스트 정렬하기"
   ]
  },
  {
   "cell_type": "markdown",
   "id": "37cc7c09",
   "metadata": {},
   "source": [
    "## 원본리스트 정렬\n",
    "* 리스트명.sort()\n",
    "* 리스트명.sort(reverse=True) : 내림차순"
   ]
  },
  {
   "cell_type": "code",
   "execution_count": 2,
   "id": "126c4b6a",
   "metadata": {},
   "outputs": [],
   "source": [
    "friends = ['me','you','we','they','he','she']"
   ]
  },
  {
   "cell_type": "code",
   "execution_count": 3,
   "id": "84714549",
   "metadata": {
    "scrolled": true
   },
   "outputs": [],
   "source": [
    "friends.sort()"
   ]
  },
  {
   "cell_type": "code",
   "execution_count": 4,
   "id": "0435fc0e",
   "metadata": {
    "scrolled": true
   },
   "outputs": [
    {
     "data": {
      "text/plain": [
       "['he', 'me', 'she', 'they', 'we', 'you']"
      ]
     },
     "execution_count": 4,
     "metadata": {},
     "output_type": "execute_result"
    }
   ],
   "source": [
    "friends"
   ]
  },
  {
   "cell_type": "code",
   "execution_count": 5,
   "id": "aee6039a",
   "metadata": {},
   "outputs": [],
   "source": [
    "friends.sort(reverse=True)"
   ]
  },
  {
   "cell_type": "code",
   "execution_count": 6,
   "id": "59eb235b",
   "metadata": {},
   "outputs": [
    {
     "data": {
      "text/plain": [
       "['you', 'we', 'they', 'she', 'me', 'he']"
      ]
     },
     "execution_count": 6,
     "metadata": {},
     "output_type": "execute_result"
    }
   ],
   "source": [
    "friends"
   ]
  },
  {
   "cell_type": "markdown",
   "id": "eda37ed7",
   "metadata": {},
   "source": [
    "## 복사본 만들어서 정렬\n",
    "* sorted(리스트명)\n",
    "* sorted(리스트명, reverse=True) : 내림차순"
   ]
  },
  {
   "cell_type": "code",
   "execution_count": 7,
   "id": "88a7f155",
   "metadata": {},
   "outputs": [],
   "source": [
    "friends = ['me','you','we','they','he','she']"
   ]
  },
  {
   "cell_type": "code",
   "execution_count": 8,
   "id": "f82b23b9",
   "metadata": {},
   "outputs": [],
   "source": [
    "sorted_friends = sorted(friends)"
   ]
  },
  {
   "cell_type": "code",
   "execution_count": 9,
   "id": "eb942ec6",
   "metadata": {},
   "outputs": [
    {
     "data": {
      "text/plain": [
       "['he', 'me', 'she', 'they', 'we', 'you']"
      ]
     },
     "execution_count": 9,
     "metadata": {},
     "output_type": "execute_result"
    }
   ],
   "source": [
    "sorted_friends"
   ]
  },
  {
   "cell_type": "code",
   "execution_count": 10,
   "id": "06e87ca8",
   "metadata": {},
   "outputs": [
    {
     "data": {
      "text/plain": [
       "['me', 'you', 'we', 'they', 'he', 'she']"
      ]
     },
     "execution_count": 10,
     "metadata": {},
     "output_type": "execute_result"
    }
   ],
   "source": [
    "friends"
   ]
  },
  {
   "cell_type": "markdown",
   "id": "231e659b",
   "metadata": {},
   "source": [
    "## 리스트 순서 뒤집기\n",
    "* 리스트명.reverse()"
   ]
  },
  {
   "cell_type": "code",
   "execution_count": 11,
   "id": "2bd62d9d",
   "metadata": {},
   "outputs": [],
   "source": [
    "friends = ['me','you','we','they','he','she']"
   ]
  },
  {
   "cell_type": "code",
   "execution_count": 12,
   "id": "8476945f",
   "metadata": {},
   "outputs": [],
   "source": [
    "friends.reverse()"
   ]
  },
  {
   "cell_type": "code",
   "execution_count": 13,
   "id": "49e0a543",
   "metadata": {},
   "outputs": [
    {
     "data": {
      "text/plain": [
       "['she', 'he', 'they', 'we', 'you', 'me']"
      ]
     },
     "execution_count": 13,
     "metadata": {},
     "output_type": "execute_result"
    }
   ],
   "source": [
    "friends"
   ]
  },
  {
   "cell_type": "markdown",
   "id": "81b6fa2f",
   "metadata": {},
   "source": [
    "# 2차원리스트 다루기"
   ]
  },
  {
   "cell_type": "markdown",
   "id": "cf6a766c",
   "metadata": {},
   "source": [
    "* 2차원리스트 만들기\n",
    "||0열|1열|2열|\n",
    "|--|--|--|--|\n",
    "|0행|10|20|30|\n",
    "|1행|40|50|60|"
   ]
  },
  {
   "cell_type": "code",
   "execution_count": 14,
   "id": "75d99d96",
   "metadata": {
    "scrolled": false
   },
   "outputs": [
    {
     "name": "stdout",
     "output_type": "stream",
     "text": [
      "30\n",
      "60\n"
     ]
    }
   ],
   "source": [
    "# 리스트 만들기\n",
    "l2 = [[10,20,30],[40,50,60]]\n",
    "\n",
    "# 30 추출하기\n",
    "print(l2[0][2])\n",
    "\n",
    "# 1행 2열 추출하기\n",
    "print(l2[1][2])"
   ]
  },
  {
   "cell_type": "markdown",
   "id": "650fedef",
   "metadata": {},
   "source": [
    "* 연습   \n",
    "파일리스트에서 파일명과 확장자를 분리하여 다음과 같은 형태로 저장하는 리스트를 만들어봅시다.\n",
    "|파일명|확장자|\n",
    "|--|--|\n",
    "|file1|py|\n",
    "|file2|txt|\n",
    "|file3|pptx|"
   ]
  },
  {
   "cell_type": "code",
   "execution_count": 15,
   "id": "62a5570e",
   "metadata": {},
   "outputs": [
    {
     "name": "stdout",
     "output_type": "stream",
     "text": [
      "[['file1', 'py'], ['file2', 'txt'], ['file3', 'pptx']]\n"
     ]
    }
   ],
   "source": [
    "file_list = ['file1.py','file2.txt','file3.pptx']\n",
    "name_extension = []\n",
    "\n",
    "for i in file_list:\n",
    "    #print(i.split('.'))\n",
    "    name_extension.append(i.split('.'))\n",
    "\n",
    "print(name_extension)"
   ]
  }
 ],
 "metadata": {
  "kernelspec": {
   "display_name": "Python 3 (ipykernel)",
   "language": "python",
   "name": "python3"
  },
  "language_info": {
   "codemirror_mode": {
    "name": "ipython",
    "version": 3
   },
   "file_extension": ".py",
   "mimetype": "text/x-python",
   "name": "python",
   "nbconvert_exporter": "python",
   "pygments_lexer": "ipython3",
   "version": "3.8.12"
  },
  "toc": {
   "base_numbering": 1,
   "nav_menu": {},
   "number_sections": true,
   "sideBar": true,
   "skip_h1_title": false,
   "title_cell": "Table of Contents",
   "title_sidebar": "Contents",
   "toc_cell": false,
   "toc_position": {},
   "toc_section_display": true,
   "toc_window_display": true
  }
 },
 "nbformat": 4,
 "nbformat_minor": 5
}
