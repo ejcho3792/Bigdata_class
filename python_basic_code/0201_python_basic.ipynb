{
 "cells": [
  {
   "cell_type": "markdown",
   "id": "65aa063e",
   "metadata": {},
   "source": [
    "출력하기   \n",
    "기본 출력"
   ]
  },
  {
   "cell_type": "code",
   "execution_count": 1,
   "id": "fe6a10da",
   "metadata": {},
   "outputs": [
    {
     "name": "stdout",
     "output_type": "stream",
     "text": [
      "hello\n",
      "hello\n",
      "hello python\n",
      "1+1= 2\n"
     ]
    }
   ],
   "source": [
    "# hello 출력하기\n",
    "print('hello')\n",
    "print(\"hello\")\n",
    "# hello, python 출력하기\n",
    "print('hello','python')\n",
    "# 계산식 출력하기 (1+1=2)\n",
    "print('1+1=',1+1)"
   ]
  },
  {
   "cell_type": "markdown",
   "id": "62feacde",
   "metadata": {},
   "source": [
    "구분자 지정\n"
   ]
  },
  {
   "cell_type": "code",
   "execution_count": 2,
   "id": "e7ad5ee6",
   "metadata": {},
   "outputs": [
    {
     "name": "stdout",
     "output_type": "stream",
     "text": [
      "hello,python\n",
      "1+1=2\n"
     ]
    }
   ],
   "source": [
    "# ,로 구분 (hello,python)\n",
    "print('hello','python',sep=',')\n",
    "# 공백없이 붙여서 출력 (1+1=2)\n",
    "print('1+1=',1+1,sep='')"
   ]
  },
  {
   "cell_type": "markdown",
   "id": "c7179ee5",
   "metadata": {},
   "source": [
    "끝문자 지정"
   ]
  },
  {
   "cell_type": "code",
   "execution_count": 3,
   "id": "1e7dd1cb",
   "metadata": {},
   "outputs": [
    {
     "name": "stdout",
     "output_type": "stream",
     "text": [
      "안녕하세요 반갑습니다\n",
      "안녕하세요!!반갑습니다!!"
     ]
    }
   ],
   "source": [
    "# 공백으로 끝내기 (안녕하세요 반갑습니다)\n",
    "print('안녕하세요', end=' ')\n",
    "print('반갑습니다')\n",
    "# !!로 끝내기(안녕하세요!!반갑습니다!!)\n",
    "print('안녕하세요', end='!!')\n",
    "print('반갑습니다', end='!!')"
   ]
  },
  {
   "cell_type": "markdown",
   "id": "fef80f9e",
   "metadata": {},
   "source": [
    "여러 줄 한번에 출력하기\n"
   ]
  },
  {
   "cell_type": "code",
   "execution_count": 4,
   "id": "6f0e25de",
   "metadata": {},
   "outputs": [
    {
     "name": "stdout",
     "output_type": "stream",
     "text": [
      "자세히 보아야 예쁘다.\n",
      "오래 보아야 사랑스럽다.\n",
      "너도 그렇다.\n",
      "\n",
      "자세히 보아야 예쁘다.\n",
      "오래 보아야 사랑스럽다.\n",
      "너도 그렇다.\n",
      "\n",
      "\n",
      "자세히 보아야 예쁘다.\n",
      "오래 보아야 사랑스럽다.\n",
      "너도 그렇다.\n",
      "\n"
     ]
    }
   ],
   "source": [
    "print('자세히 보아야 예쁘다.')\n",
    "print('오래 보아야 사랑스럽다.')\n",
    "print('너도 그렇다.')\n",
    "\n",
    "print('''\n",
    "자세히 보아야 예쁘다.\n",
    "오래 보아야 사랑스럽다.\n",
    "너도 그렇다.\n",
    "''')\n",
    "\n",
    "print(\"\"\"\n",
    "자세히 보아야 예쁘다.\n",
    "오래 보아야 사랑스럽다.\n",
    "너도 그렇다.\n",
    "\"\"\")"
   ]
  },
  {
   "cell_type": "markdown",
   "id": "690d4dd4",
   "metadata": {},
   "source": [
    "주석 달기\n"
   ]
  },
  {
   "cell_type": "code",
   "execution_count": 5,
   "id": "7f550b5b",
   "metadata": {
    "scrolled": true
   },
   "outputs": [
    {
     "name": "stdout",
     "output_type": "stream",
     "text": [
      "1\n",
      "3\n"
     ]
    }
   ],
   "source": [
    "## 주석에 대한 코드입니다##\n",
    "print(1) # 주석\n",
    "#print(2)  \n",
    "print(3)\n"
   ]
  },
  {
   "cell_type": "markdown",
   "id": "47c0a141",
   "metadata": {},
   "source": [
    "들여쓰기\n"
   ]
  },
  {
   "cell_type": "code",
   "execution_count": 7,
   "id": "81835f86",
   "metadata": {},
   "outputs": [
    {
     "ename": "IndentationError",
     "evalue": "unexpected indent (Temp/ipykernel_1276/246959834.py, line 2)",
     "output_type": "error",
     "traceback": [
      "\u001b[1;36m  File \u001b[1;32m\"C:\\Users\\kk135\\AppData\\Local\\Temp/ipykernel_1276/246959834.py\"\u001b[1;36m, line \u001b[1;32m2\u001b[0m\n\u001b[1;33m    print('hello2')\u001b[0m\n\u001b[1;37m    ^\u001b[0m\n\u001b[1;31mIndentationError\u001b[0m\u001b[1;31m:\u001b[0m unexpected indent\n"
     ]
    }
   ],
   "source": [
    "print('hello1')\n",
    " print('hello2')"
   ]
  },
  {
   "cell_type": "markdown",
   "id": "b6b71ec0",
   "metadata": {},
   "source": [
    "오류 해석하기\n"
   ]
  },
  {
   "cell_type": "code",
   "execution_count": 8,
   "id": "6fd64822",
   "metadata": {},
   "outputs": [
    {
     "ename": "NameError",
     "evalue": "name 'Print' is not defined",
     "output_type": "error",
     "traceback": [
      "\u001b[1;31m---------------------------------------------------------------------------\u001b[0m",
      "\u001b[1;31mNameError\u001b[0m                                 Traceback (most recent call last)",
      "\u001b[1;32m~\\AppData\\Local\\Temp/ipykernel_1276/2674531823.py\u001b[0m in \u001b[0;36m<module>\u001b[1;34m\u001b[0m\n\u001b[1;32m----> 1\u001b[1;33m \u001b[0mPrint\u001b[0m\u001b[1;33m(\u001b[0m\u001b[1;34m'hello'\u001b[0m\u001b[1;33m)\u001b[0m\u001b[1;33m\u001b[0m\u001b[1;33m\u001b[0m\u001b[0m\n\u001b[0m",
      "\u001b[1;31mNameError\u001b[0m: name 'Print' is not defined"
     ]
    }
   ],
   "source": [
    "Print('hello')"
   ]
  },
  {
   "cell_type": "code",
   "execution_count": 9,
   "id": "4c4df89f",
   "metadata": {},
   "outputs": [
    {
     "ename": "SyntaxError",
     "evalue": "EOL while scanning string literal (Temp/ipykernel_1276/353353896.py, line 1)",
     "output_type": "error",
     "traceback": [
      "\u001b[1;36m  File \u001b[1;32m\"C:\\Users\\kk135\\AppData\\Local\\Temp/ipykernel_1276/353353896.py\"\u001b[1;36m, line \u001b[1;32m1\u001b[0m\n\u001b[1;33m    print('hello'')\u001b[0m\n\u001b[1;37m                   ^\u001b[0m\n\u001b[1;31mSyntaxError\u001b[0m\u001b[1;31m:\u001b[0m EOL while scanning string literal\n"
     ]
    }
   ],
   "source": [
    "print('hello'')"
   ]
  },
  {
   "cell_type": "code",
   "execution_count": 10,
   "id": "f3826bb8",
   "metadata": {},
   "outputs": [
    {
     "ename": "SyntaxError",
     "evalue": "closing parenthesis '}' does not match opening parenthesis '(' (Temp/ipykernel_1276/670788223.py, line 1)",
     "output_type": "error",
     "traceback": [
      "\u001b[1;36m  File \u001b[1;32m\"C:\\Users\\kk135\\AppData\\Local\\Temp/ipykernel_1276/670788223.py\"\u001b[1;36m, line \u001b[1;32m1\u001b[0m\n\u001b[1;33m    print('hello'}\u001b[0m\n\u001b[1;37m                 ^\u001b[0m\n\u001b[1;31mSyntaxError\u001b[0m\u001b[1;31m:\u001b[0m closing parenthesis '}' does not match opening parenthesis '('\n"
     ]
    }
   ],
   "source": [
    "print('hello'}"
   ]
  }
 ],
 "metadata": {
  "kernelspec": {
   "display_name": "Python 3 (ipykernel)",
   "language": "python",
   "name": "python3"
  },
  "language_info": {
   "codemirror_mode": {
    "name": "ipython",
    "version": 3
   },
   "file_extension": ".py",
   "mimetype": "text/x-python",
   "name": "python",
   "nbconvert_exporter": "python",
   "pygments_lexer": "ipython3",
   "version": "3.8.12"
  }
 },
 "nbformat": 4,
 "nbformat_minor": 5
}
