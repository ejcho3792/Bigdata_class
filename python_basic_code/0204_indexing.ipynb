{
 "cells": [
  {
   "cell_type": "markdown",
   "id": "ef2ab053",
   "metadata": {},
   "source": [
    "문자열 인덱싱   \n",
    "양수 인덱스 사용하기\n"
   ]
  },
  {
   "cell_type": "code",
   "execution_count": 1,
   "id": "0d7246de",
   "metadata": {},
   "outputs": [
    {
     "name": "stdout",
     "output_type": "stream",
     "text": [
      "H\n",
      "W\n",
      "d\n"
     ]
    }
   ],
   "source": [
    "a = 'Hello World'\n",
    "\n",
    "# 'H' 출력하기\n",
    "print(a[0])\n",
    "\n",
    "# 'W' 출력하기\n",
    "print(a[6])\n",
    "\n",
    "# 'd' 출력하기\n",
    "print(a[10])"
   ]
  },
  {
   "cell_type": "markdown",
   "id": "5ad7f7a2",
   "metadata": {},
   "source": [
    "음수 인덱스 사용하기\n"
   ]
  },
  {
   "cell_type": "code",
   "execution_count": 2,
   "id": "66000dcb",
   "metadata": {},
   "outputs": [
    {
     "name": "stdout",
     "output_type": "stream",
     "text": [
      "H\n",
      "W\n",
      "d\n"
     ]
    }
   ],
   "source": [
    "a = 'Hello World'\n",
    "\n",
    "# 'H' 출력하기\n",
    "print(a[-11])\n",
    "\n",
    "# 'W' 출력하기\n",
    "print(a[-5])\n",
    "\n",
    "# 'd' 출력하기\n",
    "print(a[-1])"
   ]
  },
  {
   "cell_type": "markdown",
   "id": "7d95dcc2",
   "metadata": {},
   "source": [
    "문자열 슬라이싱   \n",
    "양수 인덱스로 슬라이싱\n"
   ]
  },
  {
   "cell_type": "code",
   "execution_count": 3,
   "id": "d6e8b392",
   "metadata": {},
   "outputs": [
    {
     "name": "stdout",
     "output_type": "stream",
     "text": [
      "Hello\n",
      "World\n"
     ]
    }
   ],
   "source": [
    "a = 'Hello World'\n",
    "# 'Hello' 출력하기\n",
    "print(a[0:5])\n",
    "\n",
    "# 'World' 출력하기\n",
    "print(a[6:11])"
   ]
  },
  {
   "cell_type": "markdown",
   "id": "57bab7da",
   "metadata": {},
   "source": [
    "음수 인덱스로 슬라이싱\n"
   ]
  },
  {
   "cell_type": "code",
   "execution_count": 4,
   "id": "fc07d7cd",
   "metadata": {},
   "outputs": [
    {
     "name": "stdout",
     "output_type": "stream",
     "text": [
      "Hello\n",
      "World\n"
     ]
    }
   ],
   "source": [
    "a = 'Hello World'\n",
    "\n",
    "# 'Hello' 출력하기\n",
    "print(a[-11:-6])\n",
    "\n",
    "# 'World' 출력하기\n",
    "print(a[-5:])"
   ]
  },
  {
   "cell_type": "markdown",
   "id": "03748054",
   "metadata": {},
   "source": [
    "첫번째와 마지막 인덱스는 생략 가능\n"
   ]
  },
  {
   "cell_type": "code",
   "execution_count": 5,
   "id": "ae834fa7",
   "metadata": {},
   "outputs": [
    {
     "name": "stdout",
     "output_type": "stream",
     "text": [
      "Hello\n",
      "World\n",
      "Hello World\n"
     ]
    }
   ],
   "source": [
    "a = 'Hello World'\n",
    "\n",
    "# 'Hello'\n",
    "print(a[:5])\n",
    "\n",
    "# 'World'\n",
    "print(a[6:])\n",
    "\n",
    "# 'Hello World'\n",
    "print(a[:])"
   ]
  },
  {
   "cell_type": "markdown",
   "id": "293347e3",
   "metadata": {},
   "source": [
    "한문자씩 건너뛰어 출력하기\n"
   ]
  },
  {
   "cell_type": "code",
   "execution_count": 6,
   "id": "c533ac77",
   "metadata": {},
   "outputs": [
    {
     "name": "stdout",
     "output_type": "stream",
     "text": [
      "HloWrd\n"
     ]
    }
   ],
   "source": [
    "a = 'Hello World'\n",
    "print(a[::2]) "
   ]
  },
  {
   "cell_type": "markdown",
   "id": "ac4372ad",
   "metadata": {},
   "source": [
    "역순으로 출력하기\n"
   ]
  },
  {
   "cell_type": "code",
   "execution_count": 7,
   "id": "68d6f275",
   "metadata": {},
   "outputs": [
    {
     "name": "stdout",
     "output_type": "stream",
     "text": [
      "dlroW olleH\n"
     ]
    }
   ],
   "source": [
    "a = 'Hello World'\n",
    "print(a[::-1])"
   ]
  },
  {
   "cell_type": "markdown",
   "id": "3ef21b06",
   "metadata": {},
   "source": [
    "문자열 함수   \n",
    "문자열 교체하기\n"
   ]
  },
  {
   "cell_type": "code",
   "execution_count": 8,
   "id": "efd9287b",
   "metadata": {},
   "outputs": [
    {
     "name": "stdout",
     "output_type": "stream",
     "text": [
      "Bye,,,,, World\n"
     ]
    }
   ],
   "source": [
    "a = 'Hello World'\n",
    "\n",
    "# '초코'-->'딸기'로 교체\n",
    "print(a.replace('Hello','Bye,,,,,'))"
   ]
  },
  {
   "cell_type": "markdown",
   "id": "553f6e25",
   "metadata": {},
   "source": [
    "문자의 위치 찾기\n"
   ]
  },
  {
   "cell_type": "code",
   "execution_count": 9,
   "id": "dfc48589",
   "metadata": {},
   "outputs": [
    {
     "name": "stdout",
     "output_type": "stream",
     "text": [
      "1\n",
      "2\n"
     ]
    }
   ],
   "source": [
    "a = 'Hello, Python!!!'\n",
    "\n",
    "# 'e'의 위치 찾기\n",
    "print(a.find('e'))\n",
    "\n",
    "# 'l'의 위치 찾기\n",
    "print(a.find('l'))"
   ]
  },
  {
   "cell_type": "markdown",
   "id": "eca82e3e",
   "metadata": {},
   "source": [
    "소문자로 변환하기\n"
   ]
  },
  {
   "cell_type": "code",
   "execution_count": 11,
   "id": "21fdfd80",
   "metadata": {},
   "outputs": [
    {
     "data": {
      "text/plain": [
       "'hello, python!!!'"
      ]
     },
     "execution_count": 11,
     "metadata": {},
     "output_type": "execute_result"
    }
   ],
   "source": [
    "a = 'Hello, Python!!!'\n",
    "a.lower()"
   ]
  },
  {
   "cell_type": "markdown",
   "id": "e49e2917",
   "metadata": {},
   "source": [
    "대문자로 변환하기\n"
   ]
  },
  {
   "cell_type": "code",
   "execution_count": 12,
   "id": "1e0badb0",
   "metadata": {},
   "outputs": [
    {
     "data": {
      "text/plain": [
       "'HELLO, PYTHON!!!'"
      ]
     },
     "execution_count": 12,
     "metadata": {},
     "output_type": "execute_result"
    }
   ],
   "source": [
    "a = 'Hello, Python!!!'\n",
    "a.upper()"
   ]
  },
  {
   "cell_type": "markdown",
   "id": "0a63af09",
   "metadata": {},
   "source": [
    "문자열 나누기\n"
   ]
  },
  {
   "cell_type": "code",
   "execution_count": 13,
   "id": "66fa3b25",
   "metadata": {},
   "outputs": [
    {
     "data": {
      "text/plain": [
       "['010', '1234', '5678']"
      ]
     },
     "execution_count": 13,
     "metadata": {},
     "output_type": "execute_result"
    }
   ],
   "source": [
    "phone = '010-1234-5678'\n",
    "phone.split('-')"
   ]
  },
  {
   "cell_type": "code",
   "execution_count": 14,
   "id": "2b70c0c5",
   "metadata": {},
   "outputs": [
    {
     "data": {
      "text/plain": [
       "['abcd', 'gmail.com']"
      ]
     },
     "execution_count": 14,
     "metadata": {},
     "output_type": "execute_result"
    }
   ],
   "source": [
    "email = 'abcd@gmail.com'\n",
    "email.split('@')"
   ]
  },
  {
   "cell_type": "markdown",
   "id": "367fafd8",
   "metadata": {},
   "source": [
    "연습문제   \n",
    "사용자의 영문 이름을 입력받아 성과 이름 순서를 바꾸어서 출력하는 프로그램을 작성하세요.\n",
    "성과 이름은 공백으로 구분합니다"
   ]
  },
  {
   "cell_type": "code",
   "execution_count": 15,
   "id": "2e4d54ca",
   "metadata": {},
   "outputs": [
    {
     "name": "stdout",
     "output_type": "stream",
     "text": [
      "영문이름(성과 이름은 공백으로 구분하세요):eunji cho\n",
      "5\n",
      "eunji\n",
      "cho\n",
      "cho eunji\n"
     ]
    }
   ],
   "source": [
    "# 사용자의 영문이름 입력받기 (성과 이름은 공백으로 구분)\n",
    "full_name = input('영문이름(성과 이름은 공백으로 구분하세요):')\n",
    "\n",
    "# 공백의 위치 찾기\n",
    "space = full_name.find(' ')\n",
    "print(space)\n",
    "# 성, 이름을 슬라이싱하여 각각 변수에 담기\n",
    "first_name = full_name[:space]\n",
    "last_name = full_name[space+1:]\n",
    "\n",
    "print(first_name)\n",
    "print(last_name)\n",
    "\n",
    "# 성, 이름의 순서를 바꾸어 출력하기\n",
    "print(last_name, first_name)"
   ]
  }
 ],
 "metadata": {
  "kernelspec": {
   "display_name": "Python 3 (ipykernel)",
   "language": "python",
   "name": "python3"
  },
  "language_info": {
   "codemirror_mode": {
    "name": "ipython",
    "version": 3
   },
   "file_extension": ".py",
   "mimetype": "text/x-python",
   "name": "python",
   "nbconvert_exporter": "python",
   "pygments_lexer": "ipython3",
   "version": "3.8.12"
  }
 },
 "nbformat": 4,
 "nbformat_minor": 5
}
